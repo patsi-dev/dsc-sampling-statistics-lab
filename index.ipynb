{
  "cells": [
    {
      "cell_type": "markdown",
      "metadata": {
        "id": "O80THmMIP08A"
      },
      "source": [
        "# Sampling Statistics - Lab\n",
        "\n",
        "## Introduction\n",
        "\n",
        "Typically, we don't know statistics about a population itself. The only way to know these for sure is to survey the entirety of the population, which is typically impractical. For example, to know the true salary mean of individuals in the United States, we would have to survey each and every individual.\n",
        "\n",
        "In lieu of being able to know the true underlying population statistics, we estimate them. Point estimates are estimates of population parameters based on sample data. For instance, if we wanted to know the average age of registered voters in the U.S., we could take a survey of registered voters and then use the average age of the respondents as a point estimate of the average age of the population as a whole.\n",
        "\n",
        "The average of a sample is known as the sample mean. Sampling distribution can be thought of as relative frequency distribution with a large number of samples. A relative frequency distribution tends to approach the sampling distribution as the number of samples increase.\n",
        "\n",
        "## Objectives\n",
        "You will be able to:\n",
        "\n",
        "* Calculate and interpret sampling error\n",
        "* Explain how sample size is related to sampling error\n",
        "* Explain how the sampling error is related to population standard deviation\n",
        "\n",
        "## Background and Terminologies\n",
        "\n",
        "In order to learn the **population mean**, we don't measure the whole population. Instead, we take a random sample and use **sample mean, ( x_bar or $\\bar{x}$ )** to estimate the population mean **( mu or $\\mu$ )**. The sample mean is usually not exactly the same as the population mean and depends upon the values of samples chosen, however, the population mean remains fixed. While using the **sample mean** to estimate the population mean, we come across the **sampling error**, which directly relates to the **standard deviation** of a sampling statistic (e.g. mean values). This difference can be caused by many factors including poor survey design, biased sampling methods, and the randomness inherent to drawing a sample from a population.\n",
        "\n",
        "Let's learn about these concepts through an example."
      ]
    },
    {
      "cell_type": "markdown",
      "metadata": {
        "id": "INL7jSxjP08D"
      },
      "source": [
        ">**Pumpkin Weights**\n",
        "\n",
        ">The population is the weight of six pumpkins (in pounds) displayed in a carnival \"Guess the Weight\" game booth. You are asked to guess the average weight of the six pumpkins by picking two pumpkins at a time randomly until all pumpkins have been used.\n",
        "\n",
        "| Pumpkin | Weight (in pounds) |\n",
        "|---------|--------------------|\n",
        "| A       |       19           |\n",
        "| B       |       14           |\n",
        "| C       |       15           |\n",
        "| D       |       9            |\n",
        "| E       |       10           |\n",
        "| F       |       17           |"
      ]
    },
    {
      "cell_type": "markdown",
      "metadata": {
        "id": "Aoj-p7DxP08E"
      },
      "source": [
        "## Step 1\n",
        "\n",
        "Let's calculate the population mean first, which we calculate as:\n",
        "\n",
        "**$\\large \\mu = \\frac{\\text{sum of all elements}}{N}$**, where N is population size."
      ]
    },
    {
      "cell_type": "code",
      "execution_count": 11,
      "metadata": {
        "id": "Tn--Y1vaP08E"
      },
      "outputs": [],
      "source": [
        "# Import necessary libraries\n",
        "import numpy as np\n",
        "from collections import Counter\n",
        "import matplotlib.pyplot as plt\n",
        "import itertools\n",
        "import seaborn as sns\n",
        "from fractions import Fraction"
      ]
    },
    {
      "cell_type": "markdown",
      "metadata": {
        "id": "LcAgQNoMP08F"
      },
      "source": [
        "Create two lists, one with pumpkin names and one with the respective pumpkin weights. Combine the lists to create a pumpkin directory with the pumpkin names as keys and the pumpkin weights as values."
      ]
    },
    {
      "cell_type": "code",
      "execution_count": 12,
      "metadata": {
        "id": "H_GXrbRlP08G",
        "outputId": "91a2595c-5913-445d-d0ba-a4e90b650e93",
        "colab": {
          "base_uri": "https://localhost:8080/"
        }
      },
      "outputs": [
        {
          "output_type": "stream",
          "name": "stdout",
          "text": [
            "{'A': 19, 'B': 14, 'C': 15, 'D': 9, 'E': 10, 'F': 17}\n"
          ]
        }
      ],
      "source": [
        "# Create two lists with pumpkin names and weights\n",
        "\n",
        "pumpkin = ['A','B','C','D','E','F']\n",
        "weights = [19,14,15,9,10,17]\n",
        "\n",
        "# Combine both lists to create a dictionary\n",
        "\n",
        "pumpkin_dict = dict(zip(pumpkin, weights))\n",
        "print (pumpkin_dict)\n",
        "\n",
        "#{'A': 19, 'B': 14, 'C': 15, 'D': 9, 'E': 10, 'F': 17}\n"
      ]
    },
    {
      "cell_type": "markdown",
      "metadata": {
        "id": "tyuaxBkrP08G"
      },
      "source": [
        "Now, let's try to calculate the mean of the pumpkin population and also visualize the weight distribution."
      ]
    },
    {
      "cell_type": "code",
      "execution_count": 13,
      "metadata": {
        "id": "vsYBgxu6P08H",
        "outputId": "958842ef-5bbb-432e-bf39-c2be0119fd45",
        "colab": {
          "base_uri": "https://localhost:8080/"
        }
      },
      "outputs": [
        {
          "output_type": "execute_result",
          "data": {
            "text/plain": [
              "14.0"
            ]
          },
          "metadata": {},
          "execution_count": 13
        }
      ],
      "source": [
        "# Calculate the population mean from pumpkin_dict\n",
        "\n",
        "def calculate_mu(x):\n",
        "\n",
        "    # Use the formula for mu given above\n",
        "    d = sum(x.values())/len(x)\n",
        "\n",
        "    return (d)\n",
        "\n",
        "mu = calculate_mu(pumpkin_dict)\n",
        "mu\n",
        "\n",
        "# 14.0"
      ]
    },
    {
      "cell_type": "markdown",
      "metadata": {
        "id": "40dG063CP08H"
      },
      "source": [
        "That was a pretty a straightforward exercise. Let's use the data we have so far to visualize the weights of individual pumpkins and mean weight."
      ]
    },
    {
      "cell_type": "code",
      "execution_count": 14,
      "metadata": {
        "id": "D1qbroVvP08I",
        "outputId": "779910f6-3cfd-45fd-f18e-aa680fe445d2",
        "colab": {
          "base_uri": "https://localhost:8080/",
          "height": 472
        }
      },
      "outputs": [
        {
          "output_type": "display_data",
          "data": {
            "text/plain": [
              "<Figure size 640x480 with 1 Axes>"
            ],
            "image/png": "[encoded data removed]"
          },
          "metadata": {}
        }
      ],
      "source": [
        "# Plot a bar graph showing weights of pumpkins and highlight the mean weight\n",
        "\n",
        "plt.bar(pumpkin_dict.keys(), pumpkin_dict.values(), color='skyblue', edgecolor='black')\n",
        "plt.title(\"Weight of each pumpkins\")\n",
        "plt.xlabel(\"Pumpkins\")\n",
        "plt.ylabel(\"Weight\")\n",
        "plt.show()"
      ]
    },
    {
      "cell_type": "markdown",
      "metadata": {
        "id": "YBnXzrsyP08I"
      },
      "source": [
        "We can see only one pumpkin has a weight which is equal to the mean weight (B:14). Let's try to simulate the random sampling process as stated below."
      ]
    },
    {
      "cell_type": "markdown",
      "metadata": {
        "id": "Il5ruldRP08J"
      },
      "source": [
        "## Step 2 : Calculate the mean of samples\n",
        "\n",
        "From the `pumpkin_dict`, we can now obtain the sampling distributions of the sample mean for a given sample size. We'll do this while sampling *without* replacement (to reflect the idea that one can have two pumpkins at a given time, and will be taken out of population once used).\n",
        "\n",
        "Let's also try to make the code more flexible to allow sampling of any number of pumpkins from the population to study the effect of the sample size on the sample mean."
      ]
    },
    {
      "cell_type": "markdown",
      "metadata": {
        "id": "MHRUtBHhP08J"
      },
      "source": [
        "To achieve this, first, we need to identify all the possible combinations that can be observed by choosing 2 pumpkins from the population, following the game rule."
      ]
    },
    {
      "cell_type": "code",
      "execution_count": 15,
      "metadata": {
        "id": "s4ySJJjuP08J",
        "outputId": "4707d116-001c-4b72-b915-03217acdbc75",
        "colab": {
          "base_uri": "https://localhost:8080/"
        }
      },
      "outputs": [
        {
          "output_type": "stream",
          "name": "stdout",
          "text": [
            "[('A', 'B'), ('A', 'C'), ('A', 'D'), ('A', 'E'), ('A', 'F'), ('B', 'C'), ('B', 'D'), ('B', 'E'), ('B', 'F'), ('C', 'D'), ('C', 'E'), ('C', 'F'), ('D', 'E'), ('D', 'F'), ('E', 'F')]\n"
          ]
        }
      ],
      "source": [
        "\n",
        "# Identify a sample size n\n",
        "n = 2\n",
        "\n",
        "# Use itertools.combinations() to generate and print a list of combinations\n",
        "combs = list(itertools.combinations(pumpkin_dict.keys(), n) )\n",
        "\n",
        "print(combs)\n",
        "# Using 2 samples, we can see 15 possible combinations as below:\n",
        "# [('A', 'B'), ('B', 'C'), ('C', 'D'), ('D', 'E'), ('E', 'F')]\n",
        "#  ('A', 'C'), ('B', 'D'), ('C', 'E'), ('D', 'F'),\n",
        "#  ('A', 'D'), ('B', 'E'), ('C', 'F'),\n",
        "#  ('A', 'E'), ('B', 'F'),\n",
        "#  ('A', 'F'),\n"
      ]
    },
    {
      "cell_type": "markdown",
      "metadata": {
        "id": "0tTbLpHFP08K"
      },
      "source": [
        "Great! We can now generate any number of combinations from the population (try changing the value of `n` above). The next step in the process is to calculate the mean of all possible combinations and study whether these means differ from the population mean, and whether sample size has any effect on estimating the population mean.\n",
        "\n",
        "Let's write a function that would include the code for generating combinations as above and also for identifying the mean for each sample."
      ]
    },
    {
      "cell_type": "code",
      "execution_count": 16,
      "metadata": {
        "id": "WD62ZlQsP08K"
      },
      "outputs": [],
      "source": [
        "\n",
        "def sample_means(sample_size, data):\n",
        "\n",
        "    \"\"\"\n",
        "    This function takes in population data as a dictionary along with a chosen sample size\n",
        "    to generate all possible combinations of given sample size.\n",
        "    The function calculates the mean of each sample and returns:\n",
        "    a) a list of all combinations ( as tuples )\n",
        "    b) a list of means for all sample\n",
        "    \"\"\"\n",
        "\n",
        "    n = sample_size\n",
        "\n",
        "    # Calculate the mean of population\n",
        "    mu = sum(data.values())/len(data)\n",
        "    print (\"Mean of population is:\", mu)\n",
        "\n",
        "    # Generate all possible combinations using given sample size\n",
        "    combs = list(itertools.combinations(data, n))\n",
        "\n",
        "    # Calculate the mean weight (x_bar) for all the combinations (samples) using the given data\n",
        "    x_bar_list = []\n",
        "\n",
        "    # Calculate sample mean for all combinations and append to x_bar_list\n",
        "    for comb in combs:\n",
        "        total_sum_of_values = 0\n",
        "        for i in comb: # Used two for loops so that the code can be flexible to get the sum of all values in the comb tuple be it 1, 2,5,10, 1000...\n",
        "          if i in data.keys():\n",
        "            total_sum_of_values += data[i]\n",
        "        sample_mean = total_sum_of_values/ len(comb)\n",
        "        x_bar_list.append(sample_mean)\n",
        "\n",
        "    # Calculate the mean of all sample means\n",
        "    mu_x_hat = sum(x_bar_list)/ len(x_bar_list)\n",
        "    print(f'The mean of all sample means mu_x_hat is: {mu_x_hat}')\n",
        "    return combs, x_bar_list"
      ]
    },
    {
      "cell_type": "code",
      "source": [
        "n = 2 #Sample size\n",
        "\n",
        "combs, means = sample_means(n, pumpkin_dict)\n",
        "\n",
        "# Print the sample combinations with their means\n",
        "for i in range(len(combs)):\n",
        "  print(f'{combs[i]} {means[i]}')\n",
        "\n",
        "\n",
        "# Using 2 samples, we can see 15 possible combinations as below:\n",
        "# The mean of all sample means mu_x_hat is: 14.0\n",
        "# ('A', 'B') 16.5\n",
        "# ('A', 'C') 17.0\n",
        "# ('A', 'D') 14.0\n",
        "# ('A', 'E') 14.5\n",
        "# ('A', 'F') 18.0\n",
        "# ('B', 'C') 14.5\n",
        "# ('B', 'D') 11.5\n",
        "# ('B', 'E') 12.0\n",
        "# ('B', 'F') 15.5\n",
        "# ('C', 'D') 12.0\n",
        "# ('C', 'E') 12.5\n",
        "# ('C', 'F') 16.0\n",
        "# ('D', 'E') 9.5\n",
        "# ('D', 'F') 13.0\n",
        "# ('E', 'F') 13.5\n",
        "# The mean of all sample means mu_x_hat is: 14.0"
      ],
      "metadata": {
        "id": "Nx8PUBwES8u2",
        "outputId": "fd705918-2c26-45d7-ef3a-2c1f97f05e1c",
        "colab": {
          "base_uri": "https://localhost:8080/"
        }
      },
      "execution_count": 17,
      "outputs": [
        {
          "output_type": "stream",
          "name": "stdout",
          "text": [
            "Mean of population is: 14.0\n",
            "The mean of all sample means mu_x_hat is: 14.0\n",
            "('A', 'B') 16.5\n",
            "('A', 'C') 17.0\n",
            "('A', 'D') 14.0\n",
            "('A', 'E') 14.5\n",
            "('A', 'F') 18.0\n",
            "('B', 'C') 14.5\n",
            "('B', 'D') 11.5\n",
            "('B', 'E') 12.0\n",
            "('B', 'F') 15.5\n",
            "('C', 'D') 12.0\n",
            "('C', 'E') 12.5\n",
            "('C', 'F') 16.0\n",
            "('D', 'E') 9.5\n",
            "('D', 'F') 13.0\n",
            "('E', 'F') 13.5\n"
          ]
        }
      ]
    },
    {
      "cell_type": "markdown",
      "metadata": {
        "id": "U1cfy8pKP08L"
      },
      "source": [
        "Thus, even though each sample may give you an answer involving some error, the expected value is right at the target: exactly the population mean. In other words:\n",
        ">If one does the experiment over and over again, the overall average of the sample mean is exactly the population mean.\n",
        "\n",
        "In the output above, we can see that some mean values i.e. 14.5, 12, are being repeated in the combinations. We can develop a frequency table to identify the probability of seeing a different mean value."
      ]
    },
    {
      "cell_type": "code",
      "execution_count": 18,
      "metadata": {
        "id": "XYP909HrP08L",
        "outputId": "7084794a-5be7-4ecd-e03f-4d0d45bd649b",
        "colab": {
          "base_uri": "https://localhost:8080/"
        }
      },
      "outputs": [
        {
          "output_type": "stream",
          "name": "stdout",
          "text": [
            "('A', 'B') 16.5 1/15\n",
            "('A', 'C') 17.0 1/15\n",
            "('A', 'D') 14.0 1/15\n",
            "('A', 'E') 14.5 2/15\n",
            "('A', 'F') 18.0 1/15\n",
            "('B', 'C') 14.5 2/15\n",
            "('B', 'D') 11.5 1/15\n",
            "('B', 'E') 12.0 2/15\n",
            "('B', 'F') 15.5 1/15\n",
            "('C', 'D') 12.0 2/15\n",
            "('C', 'E') 12.5 1/15\n",
            "('C', 'F') 16.0 1/15\n",
            "('D', 'E') 9.5 1/15\n",
            "('D', 'F') 13.0 1/15\n",
            "('E', 'F') 13.5 1/15\n"
          ]
        }
      ],
      "source": [
        "def calculate_probability(means):\n",
        "    '''\n",
        "    Input: a list of means (x_hats)\n",
        "    Output: a list of probablitity of each mean value\n",
        "    '''\n",
        "    #Calculate the frequency of each mean value\n",
        "    # Calculate and append frequency of each mean value in the prob list.\n",
        "    prob = []\n",
        "    for i in means:\n",
        "      freq = Fraction(means.count(i)/len(means)).limit_denominator()\n",
        "      prob.append(freq)\n",
        "\n",
        "    return prob\n",
        "\n",
        "probs = calculate_probability(means)\n",
        "\n",
        "# Print combinations with sample means and probability of each mean value\n",
        "for i in range(len(combs)):\n",
        "  print(f'{combs[i]} {means[i]} {probs[i]}')\n",
        "\n",
        "# ('A', 'B') 16.5 1/15\n",
        "# ('A', 'C') 17.0 1/15\n",
        "# ('A', 'D') 14.0 1/15\n",
        "# ('A', 'E') 14.5 2/15\n",
        "# ('A', 'F') 18.0 1/15\n",
        "# ('B', 'C') 14.5 2/15\n",
        "# ('B', 'D') 11.5 1/15\n",
        "# ('B', 'E') 12.0 2/15\n",
        "# ('B', 'F') 15.5 1/15\n",
        "# ('C', 'D') 12.0 2/15\n",
        "# ('C', 'E') 12.5 1/15\n",
        "# ('C', 'F') 16.0 1/15\n",
        "# ('D', 'E') 9.5 1/15\n",
        "# ('D', 'F') 13.0 1/15\n",
        "# ('E', 'F') 13.5 1/15\n"
      ]
    },
    {
      "cell_type": "markdown",
      "metadata": {
        "id": "u0qQeSb3P08M"
      },
      "source": [
        "Here, we see that the chance that the sample mean is exactly the population mean (i.e. 14) is only 1 in 15 (row 3), very small. It may also happen that the sample mean can never be the same value as the population mean.\n",
        "\n",
        "The difference between the sample mean and the population mean is known as the **Sampling Error**.  \n",
        "\n",
        ">When using the sample mean to estimate the population mean, some possible error will be involved since random sample means are also random.\n",
        "\n",
        "## Sample size and sampling error:\n",
        "\n",
        "Sample means cluster more closely around the population mean as the sample size increases. Thus, sampling error decreases as sample size increases."
      ]
    },
    {
      "cell_type": "markdown",
      "metadata": {
        "id": "HUoOQssnP08M"
      },
      "source": [
        "Let's repeat the above exercise while increasing the sample size from 2 to 5."
      ]
    },
    {
      "cell_type": "code",
      "execution_count": 19,
      "metadata": {
        "id": "5LdTiBpYP08M",
        "outputId": "7496989e-8dcb-4164-e7d3-aebf59372413",
        "colab": {
          "base_uri": "https://localhost:8080/"
        }
      },
      "outputs": [
        {
          "output_type": "stream",
          "name": "stdout",
          "text": [
            "Mean of population is: 14.0\n",
            "The mean of all sample means mu_x_hat is: 14.0\n",
            "('A', 'B', 'C', 'D', 'E') 13.4 1/6\n",
            "('A', 'B', 'C', 'D', 'F') 14.8 1/6\n",
            "('A', 'B', 'C', 'E', 'F') 15.0 1/6\n",
            "('A', 'B', 'D', 'E', 'F') 13.8 1/6\n",
            "('A', 'C', 'D', 'E', 'F') 14.0 1/6\n",
            "('B', 'C', 'D', 'E', 'F') 13.0 1/6\n"
          ]
        }
      ],
      "source": [
        "n = 5\n",
        "\n",
        "# Use above functions to generate combinations as samples with means and calculate the probability of seeing\n",
        "# each mean value  with sample size = 5.\n",
        "combs, means = sample_means(n, pumpkin_dict)\n",
        "\n",
        "probs = calculate_probability(means)\n",
        "\n",
        "# Print combinations with sample means and probability of each mean value\n",
        "for i in range(len(combs)):\n",
        "  print(f'{combs[i]} {means[i]} {probs[i]}')\n",
        "\n",
        "# Using 5 samples with a population of size, we can see 6 possible combinations\n",
        "# The mean of all sample means mu_x_hat is: 14.0\n",
        "# 1 ('A', 'B', 'C', 'D', 'E') 13.4 1/6\n",
        "# 2 ('A', 'B', 'C', 'D', 'F') 14.8 1/6\n",
        "# 3 ('A', 'B', 'C', 'E', 'F') 15.0 1/6\n",
        "# 4 ('A', 'B', 'D', 'E', 'F') 13.8 1/6\n",
        "# 5 ('A', 'C', 'D', 'E', 'F') 14.0 1/6\n",
        "# 6 ('B', 'C', 'D', 'E', 'F') 13.0 1/6\n"
      ]
    },
    {
      "cell_type": "markdown",
      "metadata": {
        "id": "DbBNxWkwP08M"
      },
      "source": [
        "Again, we see that using the sample mean to estimate the population mean involves sampling error. Sample means do not fully agree with the population mean. The mean of sample means, however, is still 14."
      ]
    },
    {
      "cell_type": "markdown",
      "metadata": {
        "id": "wAaaP5MzP08N"
      },
      "source": [
        "In order to fully appreciate the impact of sample size on estimating the population mean, let's try to visualize sample means and how the spread of values change when changing sample size.\n",
        "\n",
        "In a loop, run the above experiment with sample sizes ranging from 1 to 5 and measure and visualize the spread of values around the population mean."
      ]
    },
    {
      "cell_type": "code",
      "execution_count": 20,
      "metadata": {
        "id": "bxwRpHAHP08N",
        "outputId": "70ef26e0-9b2f-46f5-8773-def93e03bce2",
        "colab": {
          "base_uri": "https://localhost:8080/",
          "height": 1000
        },
        "collapsed": true
      },
      "outputs": [
        {
          "output_type": "stream",
          "name": "stdout",
          "text": [
            "Mean of population is: 14.0\n",
            "The mean of all sample means mu_x_hat is: 14.0\n",
            "('A',) 19.0 1/6\n",
            "('B',) 14.0 1/6\n",
            "('C',) 15.0 1/6\n",
            "('D',) 9.0 1/6\n",
            "('E',) 10.0 1/6\n",
            "('F',) 17.0 1/6\n",
            "Mean of population is: 14.0\n",
            "The mean of all sample means mu_x_hat is: 14.0\n",
            "('A', 'B') 16.5 1/15\n",
            "('A', 'C') 17.0 1/15\n",
            "('A', 'D') 14.0 1/15\n",
            "('A', 'E') 14.5 2/15\n",
            "('A', 'F') 18.0 1/15\n",
            "('B', 'C') 14.5 2/15\n",
            "('B', 'D') 11.5 1/15\n",
            "('B', 'E') 12.0 2/15\n",
            "('B', 'F') 15.5 1/15\n",
            "('C', 'D') 12.0 2/15\n",
            "('C', 'E') 12.5 1/15\n",
            "('C', 'F') 16.0 1/15\n",
            "('D', 'E') 9.5 1/15\n",
            "('D', 'F') 13.0 1/15\n",
            "('E', 'F') 13.5 1/15\n",
            "Mean of population is: 14.0\n",
            "The mean of all sample means mu_x_hat is: 14.0\n",
            "('A', 'B', 'C') 16.0 1/20\n",
            "('A', 'B', 'D') 14.0 1/10\n",
            "('A', 'B', 'E') 14.333333333333334 1/10\n",
            "('A', 'B', 'F') 16.666666666666668 1/20\n",
            "('A', 'C', 'D') 14.333333333333334 1/10\n",
            "('A', 'C', 'E') 14.666666666666666 1/20\n",
            "('A', 'C', 'F') 17.0 1/20\n",
            "('A', 'D', 'E') 12.666666666666666 1/10\n",
            "('A', 'D', 'F') 15.0 1/20\n",
            "('A', 'E', 'F') 15.333333333333334 1/10\n",
            "('B', 'C', 'D') 12.666666666666666 1/10\n",
            "('B', 'C', 'E') 13.0 1/20\n",
            "('B', 'C', 'F') 15.333333333333334 1/10\n",
            "('B', 'D', 'E') 11.0 1/20\n",
            "('B', 'D', 'F') 13.333333333333334 1/20\n",
            "('B', 'E', 'F') 13.666666666666666 1/10\n",
            "('C', 'D', 'E') 11.333333333333334 1/20\n",
            "('C', 'D', 'F') 13.666666666666666 1/10\n",
            "('C', 'E', 'F') 14.0 1/10\n",
            "('D', 'E', 'F') 12.0 1/20\n",
            "Mean of population is: 14.0\n",
            "The mean of all sample means mu_x_hat is: 14.0\n",
            "('A', 'B', 'C', 'D') 14.25 1/15\n",
            "('A', 'B', 'C', 'E') 14.5 1/15\n",
            "('A', 'B', 'C', 'F') 16.25 1/15\n",
            "('A', 'B', 'D', 'E') 13.0 1/15\n",
            "('A', 'B', 'D', 'F') 14.75 1/15\n",
            "('A', 'B', 'E', 'F') 15.0 2/15\n",
            "('A', 'C', 'D', 'E') 13.25 1/15\n",
            "('A', 'C', 'D', 'F') 15.0 2/15\n",
            "('A', 'C', 'E', 'F') 15.25 1/15\n",
            "('A', 'D', 'E', 'F') 13.75 2/15\n",
            "('B', 'C', 'D', 'E') 12.0 1/15\n",
            "('B', 'C', 'D', 'F') 13.75 2/15\n",
            "('B', 'C', 'E', 'F') 14.0 1/15\n",
            "('B', 'D', 'E', 'F') 12.5 1/15\n",
            "('C', 'D', 'E', 'F') 12.75 1/15\n",
            "Mean of population is: 14.0\n",
            "The mean of all sample means mu_x_hat is: 14.0\n",
            "('A', 'B', 'C', 'D', 'E') 13.4 1/6\n",
            "('A', 'B', 'C', 'D', 'F') 14.8 1/6\n",
            "('A', 'B', 'C', 'E', 'F') 15.0 1/6\n",
            "('A', 'B', 'D', 'E', 'F') 13.8 1/6\n",
            "('A', 'C', 'D', 'E', 'F') 14.0 1/6\n",
            "('B', 'C', 'D', 'E', 'F') 13.0 1/6\n"
          ]
        },
        {
          "output_type": "display_data",
          "data": {
            "text/plain": [
              "<Figure size 640x480 with 1 Axes>"
            ],
            "image/png": "[encoded data removed]"
          },
          "metadata": {}
        }
      ],
      "source": [
        "# Run a for loop to execute above code for sample size 1 to 5 and visualise the spread of sample\n",
        "# means\n",
        "\n",
        "for n in range(1,6):\n",
        "  combs, means = sample_means(n, pumpkin_dict)\n",
        "  probs = calculate_probability(means)\n",
        "  for i in range(len(combs)):\n",
        "    print(f'{combs[i]} {means[i]} {probs[i]}')\n",
        "  sns.kdeplot(means, label=f'n={n}')\n",
        "\n",
        "plt.legend(title='Sample Size')\n",
        "plt.show()\n",
        "\n",
        "# Using 1 samples with a population of size, we can see 6 possible combinations\n",
        "# The mean of all sample means mu_x_hat is: 14.0\n",
        "\n",
        "# Using 2 samples with a population of size, we can see 15 possible combinations\n",
        "# The mean of all sample means mu_x_hat is: 14.0\n",
        "\n",
        "# Using 3 samples with a population of size, we can see 20 possible combinations\n",
        "# The mean of all sample means mu_x_hat is: 14.0\n",
        "\n",
        "# Using 4 samples with a population of size, we can see 15 possible combinations\n",
        "# The mean of all sample means mu_x_hat is: 14.0\n",
        "\n",
        "# Using 5 samples with a population of size, we can see 6 possible combinations\n",
        "# The mean of all sample means mu_x_hat is: 14.0"
      ]
    },
    {
      "cell_type": "markdown",
      "metadata": {
        "id": "DyQiYkYZP08N"
      },
      "source": [
        "We can see that with increasing sample size, the **spread** of sample means is reduced and the sample mean values tend to come closer to the population mean."
      ]
    },
    {
      "cell_type": "markdown",
      "metadata": {
        "id": "T8m-pM3YP08O"
      },
      "source": [
        "## Step 3: Calculate the standard error\n",
        "\n",
        "### So what is standard error?\n",
        "\n",
        "The **_Standard Error (SE)_** is very similar to the standard deviation. Both are measures of spread. The higher the number, the more spread out your data is. To put it simply, the two terms are essentially equal — but there is one important difference. While the standard error uses statistics (sample data), standard deviations use parameters (population data). We achieve this by dividing the standard deviation by the square root of the sample size.\n",
        "\n",
        "The calculation for the standard error of the sample mean is:\n",
        "\n",
        "## $$ \\sigma_{\\bar{x}} = \\frac{\\sigma}{\\sqrt{n}} \\approx \\frac{s}{\\sqrt{n}}$$\n",
        "\n",
        "Here, $\\sigma$ is the population standard deviation (which we will approximate with the sample standard deviation $s$) and $n$ is the sample size.\n",
        "\n",
        "Let's run the above block of code again and calculate the standard error according to the chosen sample size"
      ]
    },
    {
      "cell_type": "code",
      "source": [
        "# fuction to get the sample standard deviation\n",
        "# I did this on my own because I'm a genius ):\n",
        "import math\n",
        "def sample_std(sample_size, data):\n",
        "  combs, means = sample_means(sample_size, data)\n",
        "  std = []\n",
        "  for i in range(len(combs)):\n",
        "    tib = []\n",
        "    for j in range(len(combs[i])):\n",
        "      if combs[i][j] in data.keys():\n",
        "        tib.append((data[combs[i][j]] - means[i])**2)\n",
        "    std.append(math.sqrt(1 / (sample_size - 1)* sum(tib)))\n",
        "  return combs, means, std"
      ],
      "metadata": {
        "id": "y_mSumbR8H-1"
      },
      "execution_count": 28,
      "outputs": []
    },
    {
      "cell_type": "code",
      "execution_count": 40,
      "metadata": {
        "id": "478AUv-UP08O",
        "outputId": "6ec02286-661a-4d1c-d10e-c4f666c829eb",
        "colab": {
          "base_uri": "https://localhost:8080/",
          "height": 574
        }
      },
      "outputs": [
        {
          "output_type": "stream",
          "name": "stdout",
          "text": [
            "Mean of population is: 14.0\n",
            "The mean of all sample means mu_x_hat is: 14.0\n",
            "Mean of population is: 14.0\n",
            "The mean of all sample means mu_x_hat is: 14.0\n",
            "Mean of population is: 14.0\n",
            "The mean of all sample means mu_x_hat is: 14.0\n",
            "Mean of population is: 14.0\n",
            "The mean of all sample means mu_x_hat is: 14.0\n"
          ]
        },
        {
          "output_type": "display_data",
          "data": {
            "text/plain": [
              "<Figure size 640x480 with 1 Axes>"
            ],
            "image/png": "[encoded data removed]"
          },
          "metadata": {}
        }
      ],
      "source": [
        "# Create empty lists for storing sample means, combinations and standard error for each iteration\n",
        "means_list = []\n",
        "combs_list = []\n",
        "std_list = []\n",
        "err_list = []\n",
        "# Create a for loop with changing sample sizes\n",
        "for n in range(2,6):\n",
        "    # Calculate combinations, means as earlier, append to relevant lists\n",
        "    combs, means, std = sample_std(n, pumpkin_dict)\n",
        "    means_list.append(means)\n",
        "    combs_list.append(combs)\n",
        "    std_list.append(std)\n",
        "    # Calculate and append the standard error by dividing sample std with square root of sample size\n",
        "    for i in std_list:\n",
        "      for j in i:\n",
        "        err_list.append(j/ math.sqrt(n))\n",
        "\n",
        "    # Visualize sample spread and standard error values for each sample\n",
        "    sns.kdeplot(err_list)"
      ]
    },
    {
      "cell_type": "markdown",
      "metadata": {
        "id": "mlbn6qSVP08P"
      },
      "source": [
        "Thus, even though each sample may give you an answer involving some error, the expected value is right at the target: exactly the population mean. In other words, if one does the experiment over and over again, the overall average of the sample mean is exactly the population mean. If the sample size is increased, the standard error is reduced.\n",
        "\n",
        "According to the **Central Limit Theorem**, for a large sample size, `x_hat` is approximately normally distributed, regardless of the distribution of the population one samples from.\n",
        "\n",
        "## Summary\n",
        "\n",
        "In this lab, we saw how sampling statistics relate to population statistics. In order to estimate a population parameter (i.e. mean) with a high level of accuracy, We must reduce the spread or the sample error which is simply the standard deviation of the samples from the sample mean. The size of samples must be set carefully in order to avoid excessive values for standard error to gain a high level of confidence in our population estimates."
      ]
    },
    {
      "cell_type": "code",
      "source": [
        "# DO NOT PASS HERE\n",
        "# TRIAL AND EXPERIMENT AREA\n",
        "import math\n",
        "def sample_std(sample_size, data):\n",
        "  combs, means = sample_means(sample_size, data)\n",
        "  std = []\n",
        "  for i in range(len(combs)):\n",
        "    tib = []\n",
        "    for j in range(len(combs[i])):\n",
        "      if combs[i][j] in data.keys():\n",
        "        tib.append((data[combs[i][j]] - means[i])**2)\n",
        "    std.append(math.sqrt(1 / (sample_size - 1)* sum(tib)))\n",
        "  return combs, means, std"
      ],
      "metadata": {
        "id": "9ytsdkyt3mQ1"
      },
      "execution_count": 25,
      "outputs": []
    },
    {
      "cell_type": "code",
      "source": [
        "n = 2 #Sample size\n",
        "\n",
        "combs, means, std = sample_std(n, pumpkin_dict)\n",
        "\n",
        "# Print the sample combinations with their means\n",
        "for i in range(len(combs)):\n",
        "  print(f'{combs[i]} {means[i]} {std[i]}')"
      ],
      "metadata": {
        "id": "GsaXzhp86ael",
        "outputId": "0562983c-c954-4382-f31d-ee94b51e963f",
        "colab": {
          "base_uri": "https://localhost:8080/"
        }
      },
      "execution_count": 26,
      "outputs": [
        {
          "output_type": "stream",
          "name": "stdout",
          "text": [
            "Mean of population is: 14.0\n",
            "The mean of all sample means mu_x_hat is: 14.0\n",
            "('A', 'B') 16.5 3.5355339059327378\n",
            "('A', 'C') 17.0 2.8284271247461903\n",
            "('A', 'D') 14.0 7.0710678118654755\n",
            "('A', 'E') 14.5 6.363961030678928\n",
            "('A', 'F') 18.0 1.4142135623730951\n",
            "('B', 'C') 14.5 0.7071067811865476\n",
            "('B', 'D') 11.5 3.5355339059327378\n",
            "('B', 'E') 12.0 2.8284271247461903\n",
            "('B', 'F') 15.5 2.1213203435596424\n",
            "('C', 'D') 12.0 4.242640687119285\n",
            "('C', 'E') 12.5 3.5355339059327378\n",
            "('C', 'F') 16.0 1.4142135623730951\n",
            "('D', 'E') 9.5 0.7071067811865476\n",
            "('D', 'F') 13.0 5.656854249492381\n",
            "('E', 'F') 13.5 4.949747468305833\n"
          ]
        }
      ]
    },
    {
      "cell_type": "code",
      "source": [],
      "metadata": {
        "id": "svOmiXQW63Uz"
      },
      "execution_count": null,
      "outputs": []
    }
  ],
  "metadata": {
    "kernelspec": {
      "display_name": "Python 3",
      "language": "python",
      "name": "python3"
    },
    "language_info": {
      "codemirror_mode": {
        "name": "ipython",
        "version": 3
      },
      "file_extension": ".py",
      "mimetype": "text/x-python",
      "name": "python",
      "nbconvert_exporter": "python",
      "pygments_lexer": "ipython3",
      "version": "3.7.3"
    },
    "toc": {
      "base_numbering": 1,
      "nav_menu": {},
      "number_sections": true,
      "sideBar": true,
      "skip_h1_title": false,
      "title_cell": "Table of Contents",
      "title_sidebar": "Contents",
      "toc_cell": false,
      "toc_position": {},
      "toc_section_display": true,
      "toc_window_display": false
    },
    "colab": {
      "provenance": []
    }
  },
  "nbformat": 4,
  "nbformat_minor": 0
}